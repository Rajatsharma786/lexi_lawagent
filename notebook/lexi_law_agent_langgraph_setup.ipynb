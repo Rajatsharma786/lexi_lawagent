{
 "cells": [
  {
   "cell_type": "code",
   "execution_count": 8,
   "id": "159a789f",
   "metadata": {},
   "outputs": [
    {
     "name": "stderr",
     "output_type": "stream",
     "text": [
      "c:\\Users\\DELL\\anaconda3\\envs\\lexilawagent\\Lib\\site-packages\\phoenix\\otel\\otel.py:434: UserWarning: Could not infer collector endpoint protocol, defaulting to HTTP.\n",
      "  warnings.warn(\"Could not infer collector endpoint protocol, defaulting to HTTP.\")\n"
     ]
    },
    {
     "name": "stdout",
     "output_type": "stream",
     "text": [
      "OpenTelemetry Tracing Details\n",
      "|  Phoenix Project: lexilaw_agent\n",
      "|  Span Processor: SimpleSpanProcessor\n",
      "|  Collector Endpoint: https://app.phoenix.arize.com/s/rajatsharma786-rs/v1/traces\n",
      "|  Transport: HTTP + protobuf\n",
      "|  Transport Headers: {'api-key': '****', 'authorization': '****'}\n",
      "|  \n",
      "|  Using a default SpanProcessor. `add_span_processor` will overwrite this default.\n",
      "|  \n",
      "|  WARNING: It is strongly advised to use a BatchSpanProcessor in production environments.\n",
      "|  \n",
      "|  `register` has set this TracerProvider as the global OpenTelemetry default.\n",
      "|  To disable this behavior, call `register` with `set_global_tracer_provider=False`.\n",
      "\n"
     ]
    }
   ],
   "source": [
    "import os\n",
    "import json\n",
    "from phoenix.otel import register\n",
    "from opentelemetry.trace import Status, StatusCode\n",
    "\n",
    "\n",
    "phoenix_headers = {\n",
    "    \"api-key\": os.environ.get(\"ARIZE_PHNX\"),\n",
    "    \"Authorization\": f\"Bearer {os.environ.get('ARIZE_PHNX')}\",\n",
    "}\n",
    "\n",
    "# Initialize Phoenix with proper authentication and content type\n",
    "tracer_provider = register(\n",
    "    project_name=\"lexilaw_agent\",\n",
    "    endpoint=\"https://app.phoenix.arize.com/s/rajatsharma786-rs/v1/traces\",\n",
    "    headers=phoenix_headers,\n",
    "    # batch=True,\n",
    "    auto_instrument=True,\n",
    ")"
   ]
  },
  {
   "cell_type": "code",
   "execution_count": 9,
   "id": "2c2f7dd9",
   "metadata": {},
   "outputs": [
    {
     "name": "stdout",
     "output_type": "stream",
     "text": [
      "Testing Phoenix connection...\n"
     ]
    }
   ],
   "source": [
    "def test_phoenix_connection():\n",
    "    tracer = tracer_provider.get_tracer(__name__)\n",
    "    with tracer.start_as_current_span(\"test_connection\") as span:\n",
    "        span.set_attribute(\"test\", \"true\")\n",
    "        print(\"Testing Phoenix connection...\")\n",
    "\n",
    "# Run test\n",
    "test_phoenix_connection()"
   ]
  },
  {
   "cell_type": "code",
   "execution_count": 10,
   "id": "f27491c3",
   "metadata": {},
   "outputs": [],
   "source": [
    "from __future__ import annotations\n",
    "from typing import Literal, TypedDict, List, Optional, Dict, Any, Annotated\n",
    "from dataclasses import dataclass\n",
    "from langchain_core.pydantic_v1 import BaseModel, Field\n",
    "from langchain.chat_models import ChatOpenAI\n",
    "from langchain.schema import HumanMessage, SystemMessage, AIMessage, BaseMessage\n",
    "from langchain_core.messages import ToolMessage\n",
    "from langchain_core.tools import tool\n",
    "from langgraph.types import Command, interrupt\n",
    "\n",
    "from langchain_core.documents import Document\n",
    "from langchain_community.vectorstores import Chroma\n",
    "from langchain.embeddings import HuggingFaceEmbeddings\n",
    "from langchain.retrievers.contextual_compression import ContextualCompressionRetriever\n",
    "from langchain.retrievers.document_compressors import LLMChainFilter\n",
    "from langchain_community.cross_encoders import HuggingFaceCrossEncoder\n",
    "from langchain.retrievers.document_compressors import CrossEncoderReranker\n",
    "from langchain.memory import ConversationBufferWindowMemory\n",
    "from langgraph.graph.message import add_messages\n",
    "from langchain.chat_models import init_chat_model\n",
    "from langchain.text_splitter import RecursiveCharacterTextSplitter\n",
    "\n",
    "\n",
    "from langgraph.graph import StateGraph, END, START\n",
    "from langgraph.checkpoint.memory import MemorySaver\n",
    "\n",
    "from langgraph.prebuilt import ToolNode, create_react_agent\n",
    "from transformers import LayoutLMv3Processor, LayoutLMv3ForTokenClassification\n",
    "\n",
    "import redis\n",
    "import json\n",
    "import hashlib\n",
    "from datetime import timedelta\n",
    "\n",
    "from phoenix.otel import register\n",
    "from reportlab.pdfgen import canvas\n",
    "from reportlab.lib.pagesizes import letter\n",
    "from io import BytesIO\n",
    "from pathlib import Path\n",
    "import shutil\n",
    "from PyPDF2 import PdfReader, PdfWriter\n",
    "import uuid\n",
    "import torch\n",
    "import re\n",
    "from PIL import Image as PILImage, ImageOps, ImageFilter\n",
    "import pytesseract\n",
    "from pytesseract import image_to_data, Output,image_to_pdf_or_hocr\n",
    "import pdfplumber\n",
    "from pdf2image import convert_from_path\n",
    "from sentence_transformers import SentenceTransformer\n",
    "from doctr.io import DocumentFile\n",
    "from doctr.models import ocr_predictor\n",
    "import os"
   ]
  },
  {
   "cell_type": "code",
   "execution_count": 11,
   "id": "6de69595",
   "metadata": {},
   "outputs": [
    {
     "name": "stderr",
     "output_type": "stream",
     "text": [
      "No sentence-transformers model found with name nlpaueb/legal-bert-base-uncased. Creating a new one with mean pooling.\n"
     ]
    }
   ],
   "source": [
    "LAWS_DB_DIR = \"laws_db_chroma\"            # your persisted Chroma dir for laws\n",
    "LAWS_COLL   = \"laws_db\"                   # your laws collection name\n",
    "PROC_DB_DIR = \"procedures_db_chroma\"      # your persisted Chroma dir for procedures\n",
    "PROC_COLL   = \"procedures_db\"             # your procedures collection name\n",
    "\n",
    "redis_client = redis.Redis(\n",
    "    host=os.environ[\"REDIS_HOST\"],\n",
    "    port=os.environ[\"REDIS_PORT\"],\n",
    "    password=os.environ[\"REDIS_PASSWORD\"],\n",
    "    decode_responses=True  \n",
    ")\n",
    "\n",
    "# tracer = tracer_provider.get_tracer(__name__)\n",
    "\n",
    "# LLM\n",
    "llm = ChatOpenAI(model=\"gpt-4o-mini\", temperature=0,streaming=True)\n",
    "\n",
    "llm_chat = init_chat_model(\"gpt-4o\", temperature=0)\n",
    "# Conversational memory window (messages kept in state)\n",
    "MEM_WINDOW = 10\n",
    "\n",
    "sentence_model = SentenceTransformer('nlpaueb/legal-bert-base-uncased', \n",
    "                              device='cuda' if torch.cuda.is_available() else 'cpu')"
   ]
  },
  {
   "cell_type": "code",
   "execution_count": 12,
   "id": "a32638de",
   "metadata": {},
   "outputs": [],
   "source": [
    "def check_redis_memory():\n",
    "    \"\"\"Monitor Redis memory usage.\"\"\"\n",
    "    info = redis_client.info(section=\"memory\")\n",
    "    used_memory_mb = info[\"used_memory\"] / 1024 / 1024\n",
    "    \n",
    "    if used_memory_mb > 25:  # Warning at 25MB\n",
    "        print(f\"High memory usage: {used_memory_mb:.1f}MB\")\n",
    "        # Optionally clear older cache entries\n",
    "        clear_old_cache()\n",
    "    return used_memory_mb\n",
    "\n",
    "def clear_old_cache(days_old: int = 1):\n",
    "    \"\"\"Clear cache entries older than specified days.\"\"\"\n",
    "    pattern = \"extracted_text:*\"\n",
    "    keys = redis_client.keys(pattern)\n",
    "    count = 0\n",
    "    for key in keys:\n",
    "        if redis_client.ttl(key) < (24 * 60 * 60):  # Less than 1 day left\n",
    "            redis_client.delete(key)\n",
    "            count += 1\n",
    "    print(f\"Cleared {count} old cache entries\")\n",
    "\n",
    "\n",
    "def get_query_hash(query: str) -> str:\n",
    "    \"\"\"Generate a hash for the query.\"\"\"\n",
    "    print(f\"Query for hashing: {query}\")\n",
    "    return hashlib.md5(query.encode()).hexdigest()\n",
    "\n",
    "def get_file_hash(file_path: str) -> str:\n",
    "    \"\"\"Generate a unique hash for a file based on content and modification time.\"\"\"\n",
    "    with open(file_path, 'rb') as f:\n",
    "        content = f.read()\n",
    "    mod_time = str(os.path.getmtime(file_path))\n",
    "    return hashlib.md5(content + mod_time.encode()).hexdigest()\n",
    "\n",
    "def get_cached_extraction(file_path: str) -> Optional[str]:\n",
    "    \"\"\"Get cached extracted text if available.\"\"\"\n",
    "    file_hash = get_file_hash(file_path)\n",
    "    return redis_client.get(f\"extracted_text:{file_hash}\")\n",
    "\n",
    "def cache_extraction(file_path: str, extracted_text: str):\n",
    "    \"\"\"Cache extracted text with the file hash as key.\"\"\"\n",
    "    if check_redis_memory() > 25:  # MB\n",
    "        clear_old_cache()\n",
    "        \n",
    "    file_hash = get_file_hash(file_path)\n",
    "    redis_client.setex(\n",
    "        f\"extracted_text:{file_hash}\",\n",
    "        int(os.environ[\"REDIS_EXPIRATION\"]),\n",
    "        extracted_text\n",
    "    )"
   ]
  },
  {
   "cell_type": "code",
   "execution_count": 13,
   "id": "2e9f24f0",
   "metadata": {},
   "outputs": [
    {
     "data": {
      "text/plain": [
       "2.6651153564453125"
      ]
     },
     "execution_count": 13,
     "metadata": {},
     "output_type": "execute_result"
    }
   ],
   "source": [
    "check_redis_memory()"
   ]
  },
  {
   "cell_type": "code",
   "execution_count": 14,
   "id": "4fada200",
   "metadata": {},
   "outputs": [],
   "source": [
    "def chunk_document_text(text: str, chunk_size: int = 1000, overlap: int = 100) -> List[str]:\n",
    "    \"\"\"Split document into smaller chunks with overlap.\"\"\"\n",
    "    text_splitter = RecursiveCharacterTextSplitter(\n",
    "        chunk_size=chunk_size,\n",
    "        chunk_overlap=overlap,\n",
    "        separators=[\"\\n\\n\", \"\\n\", \".\", \" \", \"\"]\n",
    "    )\n",
    "    return text_splitter.split_text(text)\n",
    "\n",
    "def get_relevant_chunks(chunks: List[str], query: str, top_k: int = 3) -> str:\n",
    "    \"\"\"Get most relevant chunks using local embedding similarity.\"\"\"\n",
    "    # Initialize sentence transformer locally\n",
    "    \n",
    "    model = sentence_model\n",
    "    \n",
    "    # Get embeddings\n",
    "    chunk_embeddings = model.encode(chunks)\n",
    "    query_embedding = model.encode([query])\n",
    "    \n",
    "    # Calculate similarities\n",
    "    similarities = torch.nn.functional.cosine_similarity(\n",
    "        torch.tensor(query_embedding), \n",
    "        torch.tensor(chunk_embeddings)\n",
    "    )\n",
    "    \n",
    "    # Get top k chunks\n",
    "    top_indices = similarities.argsort(descending=True)[:top_k]\n",
    "    return \"\\n\\n\".join([chunks[i] for i in top_indices])"
   ]
  },
  {
   "cell_type": "code",
   "execution_count": 15,
   "id": "f5efc161",
   "metadata": {},
   "outputs": [],
   "source": [
    "def extract_text_from_image(image_path: str) -> str:\n",
    "    model = ocr_predictor(pretrained=True)\n",
    "    doc = DocumentFile.from_images(image_path)\n",
    "    result = model(doc)\n",
    "    return result.render()\n",
    "\n",
    "def extract_text_from_pdf(path: str) -> str:\n",
    "    text_pages = []\n",
    "    with pdfplumber.open(path) as pdf:\n",
    "        for page in pdf.pages:\n",
    "            t = page.extract_text() or \"\"\n",
    "            text_pages.append(t)\n",
    "    combined = \"\\n\".join(text_pages)\n",
    "    if combined.strip():\n",
    "        return combined\n",
    "\n",
    "    # fallback to OCR for scanned PDFs\n",
    "    model = ocr_predictor(pretrained=True)\n",
    "    doc = DocumentFile.from_pdf(path)\n",
    "    result = model(doc)\n",
    "    return result.render()\n",
    "\n",
    "def extract_text_auto(path: str) -> str:\n",
    "    cached_text = get_cached_extraction(path)\n",
    "    if cached_text:\n",
    "        print(\"Using cached extraction\")\n",
    "        return cached_text\n",
    "    ext = os.path.splitext(path)[1].lower()\n",
    "    if ext in [\".png\", \".jpg\", \".jpeg\"]:\n",
    "        extracted_text = extract_text_from_image(path)\n",
    "    elif ext == \".pdf\":\n",
    "        extracted_text =  extract_text_from_pdf(path)\n",
    "    else:\n",
    "        raise ValueError(f\"Unsupported file type: {ext}\")\n",
    "    \n",
    "    cache_extraction(path, extracted_text)\n",
    "    print(\"Cached new extraction\")\n",
    "    return extracted_text"
   ]
  },
  {
   "cell_type": "code",
   "execution_count": 16,
   "id": "d7ec6cba",
   "metadata": {},
   "outputs": [],
   "source": [
    "def build_final_retriever_from_chroma(persist_dir: str, collection: str) -> ContextualCompressionRetriever:\n",
    "    \"\"\"Load a Chroma store and wrap it with LLM filter + cross-encoder rerank, like your notebook.\"\"\"\n",
    "    embeddings = HuggingFaceEmbeddings(model_name=\"nlpaueb/legal-bert-base-uncased\",model_kwargs={\"device\": \"cuda\"})\n",
    "    db = Chroma(\n",
    "        persist_directory=persist_dir,\n",
    "        collection_name=collection,\n",
    "        embedding_function=embeddings\n",
    "    )\n",
    "\n",
    "    # Base similarity retriever\n",
    "    base = db.as_retriever(search_type=\"similarity\", search_kwargs={\"k\": 7})\n",
    "\n",
    "    # LLM filter (keeps only query-relevant docs)\n",
    "    filter_llm = LLMChainFilter.from_llm(llm=llm)\n",
    "\n",
    "    # Cross-encoder reranker\n",
    "    reranker = HuggingFaceCrossEncoder(model_name=\"BAAI/bge-reranker-large\")\n",
    "    rerank_compressor = CrossEncoderReranker(model=reranker, top_n=3)\n",
    "\n",
    "    # Compose: base -> LLM filter -> rerank\n",
    "    compressed = ContextualCompressionRetriever(\n",
    "        base_compressor=filter_llm,\n",
    "        base_retriever=base\n",
    "    )\n",
    "    final = ContextualCompressionRetriever(\n",
    "        base_compressor=rerank_compressor,\n",
    "        base_retriever=compressed\n",
    "    )\n",
    "    return final"
   ]
  },
  {
   "cell_type": "code",
   "execution_count": 17,
   "id": "a3c98a60",
   "metadata": {},
   "outputs": [
    {
     "name": "stderr",
     "output_type": "stream",
     "text": [
      "C:\\Users\\DELL\\AppData\\Local\\Temp\\ipykernel_6276\\3394874720.py:3: LangChainDeprecationWarning: The class `HuggingFaceEmbeddings` was deprecated in LangChain 0.2.2 and will be removed in 1.0. An updated version of the class exists in the :class:`~langchain-huggingface package and should be used instead. To use it run `pip install -U :class:`~langchain-huggingface` and import as `from :class:`~langchain_huggingface import HuggingFaceEmbeddings``.\n",
      "  embeddings = HuggingFaceEmbeddings(model_name=\"nlpaueb/legal-bert-base-uncased\",model_kwargs={\"device\": \"cuda\"})\n",
      "No sentence-transformers model found with name nlpaueb/legal-bert-base-uncased. Creating a new one with mean pooling.\n",
      "C:\\Users\\DELL\\AppData\\Local\\Temp\\ipykernel_6276\\3394874720.py:4: LangChainDeprecationWarning: The class `Chroma` was deprecated in LangChain 0.2.9 and will be removed in 1.0. An updated version of the class exists in the :class:`~langchain-chroma package and should be used instead. To use it run `pip install -U :class:`~langchain-chroma` and import as `from :class:`~langchain_chroma import Chroma``.\n",
      "  db = Chroma(\n",
      "No sentence-transformers model found with name nlpaueb/legal-bert-base-uncased. Creating a new one with mean pooling.\n"
     ]
    }
   ],
   "source": [
    "laws_retriever = build_final_retriever_from_chroma(LAWS_DB_DIR, LAWS_COLL)\n",
    "procedures_retriever = build_final_retriever_from_chroma(PROC_DB_DIR, PROC_COLL)"
   ]
  },
  {
   "cell_type": "code",
   "execution_count": 18,
   "id": "60289b72",
   "metadata": {},
   "outputs": [],
   "source": [
    "@tool(\"laws_db_lookup\", return_direct=False)\n",
    "def laws_db_lookup(query: str) -> List[Dict[str, Any]]:\n",
    "    \"\"\"Search Acts, regulations, and statutory instruments (Victoria). Returns a list of {meta, text}.\"\"\"\n",
    "    try:\n",
    "        query_hash = get_query_hash(query)\n",
    "        cache_key = f\"laws_query:{query_hash}\"\n",
    "\n",
    "        cached_result = redis_client.get(cache_key)\n",
    "        if cached_result:\n",
    "            print(\"Using cached law query result\")\n",
    "            try:\n",
    "                print(\"exiting\")\n",
    "                return json.loads(cached_result)\n",
    "            except json.JSONDecodeError:\n",
    "                redis_client.delete(cache_key)\n",
    "                \n",
    "        print(\"Cache miss - retrieving from laws database\")\n",
    "        docs: List[Document] = laws_retriever.get_relevant_documents(query)\n",
    "        result = [{\"metadata\": d.metadata, \"text\": d.page_content} for d in docs]\n",
    "\n",
    "        # Cache management\n",
    "        if check_redis_memory() > 25:\n",
    "            clear_old_cache()\n",
    "\n",
    "        # Cache the new result with explicit expiration\n",
    "        print(\"caching new result\")\n",
    "        redis_client.setex(\n",
    "            cache_key,\n",
    "            int(os.environ[\"REDIS_EXPIRATION\"]),\n",
    "            json.dumps(result)\n",
    "        )\n",
    "        return result\n",
    "        \n",
    "    except Exception as e:\n",
    "        print(f\"Error in laws_db_lookup: {str(e)}\")\n",
    "        docs = laws_retriever.get_relevant_documents(query)\n",
    "        return [{\"metadata\": d.metadata, \"text\": d.page_content} for d in docs]\n",
    "\n",
    "\n",
    "@tool(\"procedures_db_lookup\", return_direct=False)\n",
    "def procedures_db_lookup(query: str) -> List[Dict[str, Any]]:\n",
    "    \"\"\"Search procedural forms and court application documents. Returns a list of {meta, text}.\"\"\"\n",
    "    # with tracer.start_as_current_span(\"procedures_db_lookup\") as span:\n",
    "    #     span.set_attribute(\"query\", query)\n",
    "    try:\n",
    "        docs: List[Document] = procedures_retriever.get_relevant_documents(query)\n",
    "        result = [{\"metadata\": d.metadata, \"text\": d.page_content} for d in docs]\n",
    "        # span.set_attribute(\"result_count\", len(result))\n",
    "        return result\n",
    "    except Exception as e:\n",
    "        # span.set_status(Status(StatusCode.ERROR), str(e))\n",
    "        raise\n",
    "\n",
    "@tool\n",
    "def human_assistance(query: str) -> str:\n",
    "    \"\"\"Request assistance from a human.\"\"\"\n",
    "    human_response = interrupt({\"query\": query})\n",
    "    return human_response[\"data\"]\n",
    "\n",
    "@tool\n",
    "def generate_court_form(\n",
    "    title: str,\n",
    "    subtitle: str = \"Supreme Court of Victoria\",\n",
    "    fields: List[str] = None,\n",
    "    instructions: str = \"\"\n",
    ") -> str:\n",
    "    \"\"\"Generate a fillable PDF court form based on form type and required fields.\n",
    "    \n",
    "    Args:\n",
    "        title: Form title (required)\n",
    "        subtitle: Form subtitle (default: \"Supreme Court of Victoria\")\n",
    "        fields: List of required fields for the form\n",
    "        instructions: Any special instructions for completing the form\n",
    "    \"\"\"\n",
    "    # with tracer.start_as_current_span(\"generate_court_form\") as span:\n",
    "    #     span.set_attribute(\"form_title\", title)\n",
    "    #     span.set_attribute(\"field_count\", len(fields) if fields else 0)\n",
    "    if fields is None:\n",
    "        fields = [\n",
    "            \"Case Number\",\n",
    "            \"Applicant's Name\",\n",
    "            \"Respondent's Name\",\n",
    "            \"Court Case Number\",\n",
    "            \"Date of Filing\",\n",
    "            \"Details of Opposition\",\n",
    "            \"Grounds for Opposition\",\n",
    "            \"Supporting Documents\",\n",
    "            \"Contact Information\"\n",
    "        ]\n",
    "    \n",
    "    try:\n",
    "        buffer = BytesIO()\n",
    "        c = canvas.Canvas(buffer, pagesize=letter)\n",
    "        \n",
    "        # Add form fields\n",
    "        c.setFont(\"Helvetica\", 12)\n",
    "        y = 750  # Starting y position\n",
    "        \n",
    "        # Add form title\n",
    "        c.setFont(\"Helvetica-Bold\", 14)\n",
    "        c.drawString(50, y, \"SUPREME COURT OF VICTORIA\")\n",
    "        c.drawString(50, y-20, title)\n",
    "        c.drawString(50, y-40, subtitle)\n",
    "        \n",
    "        # Add dynamic fields\n",
    "        y = y - 80\n",
    "        field_count = 0\n",
    "        for field in fields:\n",
    "            field_count += 1\n",
    "            if y < 100:  # Start new page if needed\n",
    "                c.showPage()\n",
    "                y = 750\n",
    "            c.setFont(\"Helvetica-Bold\", 12)\n",
    "            c.drawString(50, y, f\"{field}:\")\n",
    "            c.setFont(\"Helvetica\", 12)\n",
    "            c.drawString(50, y-15, \"_\" * 70)\n",
    "            y -= 40\n",
    "            \n",
    "        # Add instructions if provided\n",
    "        if instructions:\n",
    "            if y < 150:\n",
    "                c.showPage()\n",
    "                y = 750\n",
    "            c.setFont(\"Helvetica-Oblique\", 10)\n",
    "            c.drawString(50, y-20, \"Instructions:\")\n",
    "            y -= 35\n",
    "            for line in instructions.split(\"\\n\"):\n",
    "                c.drawString(50, y, line)\n",
    "                y -= 15\n",
    "                \n",
    "        c.save()\n",
    "        \n",
    "        # Save to file\n",
    "        pdf_data = buffer.getvalue()\n",
    "        filename = f\"{title.lower().replace(' ', '_')}.pdf\"\n",
    "        with open(filename, \"wb\") as f:\n",
    "            f.write(pdf_data)\n",
    "\n",
    "        # span.set_attribute(\"fields_added\", field_count)\n",
    "        # span.set_attribute(\"has_instructions\", bool(instructions))\n",
    "        # span.set_attribute(\"output_file\", filename)\n",
    "        return f\"✓ Form successfully generated and saved as: {filename}\"\n",
    "        \n",
    "    except Exception as e:\n",
    "        # span.set_status(Status(StatusCode.ERROR), e)\n",
    "        return f\"✗ Error generating form: {str(e)}\""
   ]
  },
  {
   "cell_type": "code",
   "execution_count": 19,
   "id": "45dfd7b0",
   "metadata": {},
   "outputs": [],
   "source": [
    "LAW_SYS = (\n",
    "    f\"\"\"Role: Senior Legal Analyst Specializing in Legislative Frameworks & Statutory Interpretation\\n\n",
    "    To provide accurate, accessible, and contextually nuanced explanations of Acts of Parliament, regulations, and statutory instruments.\n",
    "    If a user provides a document (image/pdf), text will be extracted using OCR and PDF parsing before proceeding. Use that as context of query and reply to that query with respect to that.\n",
    "    This includes clarifying legislative intent, assisting in statutory interpretation, comparing similar legal provisions,\n",
    "    and guiding users through the procedural and practical applications of laws in diverse jurisdictions.\n",
    "    \n",
    "    IMPORTANT: Call laws_db_lookup EXACTLY ONCE with the most relevant query, then provide your complete answer based on those results.\n",
    "\n",
    "    Use the laws_db_lookup tool to extract and analyze the relevant legislative or statutory content required to address the. \n",
    "    \n",
    "    Carefully interpret the legal text using the appropriate method of statutory interpretation (e.g., literal rule, golden rule, mischief rule, purposive approach).\n",
    "    Summarize your findings using a structure defined in agent_knowledge_context. Break down the meaning \n",
    "    in plain English to make the law accessible to users who may not have legal training. Ensure citations \n",
    "    are provided where applicable (section numbers, case law, jurisdictional references).\n",
    "    Structured legal response including:\\n\"\n",
    "            \"- Summary of relevant legislation or statutory rule(s) in Plain English interpretation of the provision\\n\"\n",
    "            \"- Statutory interpretation method used and justification\\n\"\n",
    "            \"- Citation of legal sources (e.g., section numbers, cases)\\n\"\n",
    "            \"- Final conclusion or recommendation\")\"\"\"\n",
    ")\n",
    "\n",
    "PROC_SYS = (\n",
    "    \"\"\"You are a legal documentation expert for Victorian court procedures.\n",
    "\n",
    "CRITICAL INSTRUCTION FOR FORM GENERATION:\n",
    "When the user's message contains ANY of these words: \"generate\", \"create\", \"make\", \"need a form\", \"prepare a form\":\n",
    "YOU MUST CALL THE generate_court_form TOOL. DO NOT just describe the form.\n",
    "\n",
    "Steps you MUST follow:\n",
    "1. First, use procedures_db_lookup to get form requirements (if needed)\n",
    "2. Then IMMEDIATELY call generate_court_form with proper form_data\n",
    "3. After calling the tool, tell the user the form was generated\n",
    "\n",
    "Example of calling generate_court_form:\n",
    "{{\n",
    "    \"title\": \"NOTICE OF OPPOSITION TO APPLICATION OTHER THAN FOR LEAVE TO APPEAL\",\n",
    "    \"subtitle\": \"Supreme Court of Victoria\",\n",
    "    \"fields\": [\"Case Number\", \"Applicant's Name\", \"Respondent's Name\", \"Date of Filing\", \"Details of Opposition\", \"Grounds for Opposition\", \"Supporting Documents\", \"Contact Information\"],\n",
    "    \"instructions\": \"1. Complete all fields\\\\n2. File in person or via e-filing\\\\n3. Attach supporting documents\\\\n4. Pay relevant court fees\"\n",
    "}}\n",
    "\n",
    "For non-form questions: Use procedures_db_lookup to provide procedural guidance.\n",
    "\n",
    "REMEMBER: If user asks to GENERATE/CREATE a form, you MUST use the generate_court_form tool!\"\"\"\n",
    ")\n",
    "\n",
    "UNKNOWN_SYS = (\n",
    "    f\"\"\"You are Lexi, a friendly legal assistant. you handle user :\\n\n",
    "    'I am your legal assistant named Lexi. I help with interpreting Victorian laws and court procedures.'\\n\n",
    "    Handle casual questions and simple legal curiosities in plain English. If the question should be routed\n",
    "    to law/procedure for deeper detail, suggest a better phrasing. Be concise and helpful.\"\"\"\n",
    ")"
   ]
  },
  {
   "cell_type": "code",
   "execution_count": 20,
   "id": "f1d2800b",
   "metadata": {},
   "outputs": [],
   "source": [
    "class Router(TypedDict):\n",
    "    next: Literal[\"law\", \"procedure\", \"general\", \"FINISH\"]\n",
    "\n",
    "class State(TypedDict):\n",
    "    messages: Annotated[list, add_messages]\n",
    "    next: str\n",
    "    file_path: str | None\n",
    "    extracted_context: str | None\n"
   ]
  },
  {
   "cell_type": "code",
   "execution_count": 21,
   "id": "37656e16",
   "metadata": {},
   "outputs": [],
   "source": [
    "members = [\"law\", \"procedure\", \"general\"]\n",
    "SUPERVISOR_AGENT_PROMPT = f\"\"\"You are the routing supervisor for a legal assistant named Lexi.\n",
    "                            ANALYZE THE USER'S QUESTION AND RESPOND WITH EXACTLY ONE WORD FROM: law, procedure, general:\n",
    "                              {members}.\n",
    "\n",
    "                              Route to 'law' if the question:\n",
    "                                - Asks about interpreting Acts, legislation, or regulations\n",
    "                                - Requires understanding statutory provisions or acts\n",
    "                                - Seeks explanation of legal concepts from legislation\n",
    "                                - Involves criminal charges or offenses\n",
    "                                - Questions about legal liability or penalties\n",
    "\n",
    "                                Route to 'procedure' if the question:\n",
    "                                - Asks about how to file or prepare legal documents\n",
    "                                - Involves court forms, applications, or submissions\n",
    "                                - Requests guidance on court processes or deadlines\n",
    "\n",
    "                                Route to 'general' if the question:\n",
    "                                - Is a greeting or asks about capabilities\n",
    "                                - Seeks very basic legal information\n",
    "                                - Is general conversation\n",
    "\n",
    "                                RESPOND WITH ONLY ONE WORD: law, procedure, or general\"\"\"\n",
    "\n",
    "llm = ChatOpenAI(model=\"gpt-4.1-nano\", temperature=0,streaming=True)\n",
    "\n",
    "def supervisor_node(state: State,file_path: str = None) -> Command[Literal[\"law\", \"procedure\", \"general\", \"__end__\"]]:\n",
    "    extracted_context = None\n",
    "    file_path = state[\"file_path\"]\n",
    "    if file_path:\n",
    "        # Extract and chunk text\n",
    "        extracted_text = extract_text_auto(file_path)\n",
    "        chunks = chunk_document_text(extracted_text)\n",
    "        \n",
    "        # Get relevant chunks based on user query\n",
    "        relevant_text = get_relevant_chunks(chunks, state[\"messages\"][-1].content)\n",
    "        extracted_context = relevant_text\n",
    "\n",
    "    messages = [\n",
    "        {\"role\": \"system\", \"content\": SUPERVISOR_AGENT_PROMPT},\n",
    "        {\"role\": \"user\", \"content\": f\"Route this question: {state['messages'][-1].content}\"}\n",
    "    ]\n",
    "    \n",
    "    response = llm.invoke(messages)\n",
    "    decision = response.content.strip().lower()\n",
    "\n",
    "    print(f\"Supervisor decision: {decision}\")\n",
    "    \n",
    "    # Map the decision to a destination\n",
    "    if decision == \"finish\":\n",
    "        goto = END\n",
    "    elif decision in [\"law\", \"procedure\", \"general\"]:\n",
    "        goto = decision\n",
    "    else:\n",
    "        goto = \"general\"\n",
    "\n",
    "    return Command(goto=goto, update={\n",
    "        \"extracted_context\": extracted_context,\n",
    "        \"next\": goto\n",
    "        })"
   ]
  },
  {
   "cell_type": "code",
   "execution_count": 23,
   "id": "7df3d5f0",
   "metadata": {},
   "outputs": [],
   "source": [
    "_law_model = ChatOpenAI(model=\"gpt-4o-mini\", temperature=0, streaming=True).with_config(tags=[\"final_node\"])"
   ]
  },
  {
   "cell_type": "code",
   "execution_count": 25,
   "id": "3648e6cb",
   "metadata": {},
   "outputs": [],
   "source": [
    "law_agent = create_react_agent(\n",
    "    model=\"gpt-4o-mini\",\n",
    "    tools=[laws_db_lookup],\n",
    "    prompt =SystemMessage(LAW_SYS),       \n",
    ")\n",
    "procedure_agent = create_react_agent(\n",
    "    model=\"gpt-4o-mini\",\n",
    "    tools=[procedures_db_lookup,generate_court_form],\n",
    "    prompt =SystemMessage(PROC_SYS),\n",
    ")\n",
    "general_agent = create_react_agent(\n",
    "    model=\"gpt-4.1-nano\",\n",
    "    tools=[],\n",
    "    prompt = SystemMessage(UNKNOWN_SYS)\n",
    ")"
   ]
  },
  {
   "cell_type": "code",
   "execution_count": 14,
   "id": "34f5a17a",
   "metadata": {},
   "outputs": [],
   "source": [
    "def law_node(state: State) -> Command[Literal[\"supervisor\"]]:\n",
    "    print(\"invoke law agent\")\n",
    "    user_query = state[\"messages\"][-1].content\n",
    "    if state.get(\"extracted_context\"):\n",
    "        enhanced_query = f\"\"\"User question: {user_query}\n",
    "                            User question context document:\n",
    "                            {state['extracted_context']}\"\"\"\n",
    "        temp_messages = state[\"messages\"][:-1] + [HumanMessage(content=enhanced_query)]\n",
    "        temp_state = {**state, \"messages\": temp_messages}\n",
    "        result = law_agent.invoke(temp_state)\n",
    "    else:\n",
    "        result = law_agent.invoke(state)\n",
    "    \n",
    "    return Command(\n",
    "        update = {\n",
    "            \"messages\" : [SystemMessage(content = result[\"messages\"][-1].content,name = \"law\")]\n",
    "        },\n",
    "        goto = END\n",
    "    )\n",
    "\n",
    "def procedure_node(state: State) -> Command[Literal[\"supervisor\"]]:\n",
    "    print(\"Invoke procedure\")\n",
    "    user_query = state[\"messages\"][-1].content\n",
    "    if state.get(\"extracted_context\"):\n",
    "        enhanced_query = f\"\"\"User question: {user_query}\n",
    "                            User question context document:\n",
    "                            {state['extracted_context']}\"\"\"\n",
    "        temp_messages = state[\"messages\"][:-1] + [HumanMessage(content=enhanced_query)]\n",
    "        temp_state = {**state, \"messages\": temp_messages}\n",
    "        result = procedure_agent.invoke(temp_state)\n",
    "    else:\n",
    "        result = procedure_agent.invoke(state)\n",
    "        \n",
    "    return Command(\n",
    "        update = {\n",
    "            \"messages\" : [SystemMessage(content = result[\"messages\"][-1].content,name = \"procedure\")]\n",
    "        },\n",
    "        goto = END\n",
    "    )\n",
    "\n",
    "def general_node(state: State) -> Command[Literal[\"supervisor\"]]:\n",
    "    print(\"invoke general agent\")\n",
    "    result = general_agent.invoke(state)\n",
    "    return Command(\n",
    "        update = {\n",
    "            \"messages\" : [SystemMessage(content = result[\"messages\"][-1].content,name = \"general\")]\n",
    "        },\n",
    "        goto = END\n",
    "    )\n",
    "\n",
    "def router(state: State) -> Literal[\"law\", \"procedure\", \"unknown\"]:\n",
    "    return state[\"route\"]"
   ]
  },
  {
   "cell_type": "code",
   "execution_count": 15,
   "id": "ffaa2d0c",
   "metadata": {},
   "outputs": [],
   "source": [
    "graph = StateGraph(State)\n",
    "graph.add_node(\"supervisor\", supervisor_node)\n",
    "graph.add_node(\"law\", law_node)\n",
    "graph.add_node(\"procedure\", procedure_node)\n",
    "graph.add_node(\"general\", general_node)\n",
    "\n",
    "graph.add_edge(START,\"supervisor\")\n",
    "graph.add_edge(\"law\",END)\n",
    "graph.add_edge(\"procedure\", END)\n",
    "graph.add_edge(\"general\", END)\n",
    "\n",
    "memory = MemorySaver()\n",
    "app = graph.compile(checkpointer=memory)\n",
    "\n"
   ]
  },
  {
   "cell_type": "code",
   "execution_count": 16,
   "id": "48d0ecbe",
   "metadata": {},
   "outputs": [
    {
     "data": {
      "image/png": "[encoded data removed]",
      "text/plain": [
       "<IPython.core.display.Image object>"
      ]
     },
     "metadata": {},
     "output_type": "display_data"
    }
   ],
   "source": [
    "from IPython.display import display, Image\n",
    "display(Image(app.get_graph(xray=True).draw_mermaid_png()))"
   ]
  },
  {
   "cell_type": "code",
   "execution_count": 17,
   "id": "243f9172",
   "metadata": {},
   "outputs": [],
   "source": [
    "# from IPython.display import Image,Markdown\n",
    "# def call_multi_agent_system(agent, prompt,userid,file_path=None):\n",
    "\n",
    "#     config = {\"configurable\": {\"thread_id\": userid},\n",
    "#             \"recursion_limit\": 20}\n",
    "#     human_message_shown = False\n",
    "#     events = agent.stream(\n",
    "#         {\"messages\": [(\"user\", prompt)],\n",
    "#         \"file_path\": file_path,},\n",
    "#         config = config,\n",
    "#         stream_mode=\"messages\",\n",
    "#     )\n",
    "\n",
    "#     for event in events:\n",
    "#         # event is a tuple: (namespace, message)\n",
    "#         namespace, message = event\n",
    "        \n",
    "#         # Check if message is HumanMessage\n",
    "#         if isinstance(message, HumanMessage) and not human_message_shown:\n",
    "#             display(Markdown(f\"**Human:** {message.content}\"))\n",
    "#             human_message_shown = True\n",
    "\n",
    "#         # Check if message is SystemMessage\n",
    "#         elif isinstance(message, SystemMessage):\n",
    "#             content = message.content\n",
    "#             # Check if content contains a PDF file reference\n",
    "#             if \".pdf\" in content:\n",
    "#                 display(Markdown(f\"**Lexi:** I've prepared a fillable PDF form for you. Check your folder.\"))\n",
    "#             else:\n",
    "#                 display(Markdown(f\"**Lexi:** {content}\"))\n",
    "                \n",
    "#         # Handle AIMessage for streaming\n",
    "#         elif isinstance(message, AIMessage):\n",
    "#             if message.content:\n",
    "#                 display(Markdown(f\"**Lexi:** {message.content}\"))\n"
   ]
  },
  {
   "cell_type": "code",
   "execution_count": 18,
   "id": "a852a096",
   "metadata": {},
   "outputs": [],
   "source": [
    "import asyncio\n",
    "from IPython.display import clear_output, Markdown, display\n",
    "async def call_multi_agent_system_async(agent, prompt, userid, file_path=None):\n",
    "    config = {\"configurable\": {\"thread_id\": userid}, \"recursion_limit\": 20}\n",
    "    \n",
    "    display(Markdown(f\"**Human:** {prompt}\"))\n",
    "    print(\"\\n**Lexi:** \", end='', flush=True)\n",
    "    \n",
    "    accumulated_text = \"\"\n",
    "    \n",
    "    async for event in agent.astream_events(\n",
    "        {\"messages\": [(\"user\", prompt)], \"file_path\": file_path},\n",
    "        config=config,\n",
    "        version=\"v2\"\n",
    "    ):\n",
    "        kind = event[\"event\"]\n",
    "        \n",
    "        # Stream LLM tokens\n",
    "        if kind == \"on_chat_model_stream\":\n",
    "            content = event[\"data\"][\"chunk\"].content\n",
    "            if content:\n",
    "                print(content, end='', flush=True)\n",
    "                accumulated_text += content\n",
    "    \n",
    "    print(\"\\n\")\n",
    "\n",
    "def call_multi_agent_system(agent, prompt, userid, file_path=None):\n",
    "    # Run the async function in Jupyter's event loop\n",
    "    import nest_asyncio\n",
    "    nest_asyncio.apply()\n",
    "    \n",
    "    loop = asyncio.get_event_loop()\n",
    "    return loop.run_until_complete(\n",
    "        call_multi_agent_system_async(agent, prompt, userid, file_path)\n",
    "    )"
   ]
  },
  {
   "cell_type": "code",
   "execution_count": 20,
   "id": "f11c0389",
   "metadata": {},
   "outputs": [
    {
     "data": {
      "text/markdown": [
       "**Human:** Who are you?"
      ],
      "text/plain": [
       "<IPython.core.display.Markdown object>"
      ]
     },
     "metadata": {},
     "output_type": "display_data"
    },
    {
     "name": "stdout",
     "output_type": "stream",
     "text": [
      "\n",
      "**Lexi:** generalSupervisor decision: general\n",
      "invoke general agent\n",
      "Hi! I'm Lexi, your friendly legal assistant. I help explain Victorian laws and court procedures in simple terms. How can I assist you today?\n",
      "\n"
     ]
    }
   ],
   "source": [
    "\n",
    "call_multi_agent_system(app,\"Who are you?\",\"user_123\",)"
   ]
  },
  {
   "cell_type": "code",
   "execution_count": 21,
   "id": "1748410d",
   "metadata": {},
   "outputs": [
    {
     "data": {
      "text/markdown": [
       "**Human:** Under what section I have been charged and please explain me all the sections in detail"
      ],
      "text/plain": [
       "<IPython.core.display.Markdown object>"
      ]
     },
     "metadata": {},
     "output_type": "display_data"
    },
    {
     "name": "stdout",
     "output_type": "stream",
     "text": [
      "\n",
      "**Lexi:** Using cached extraction\n",
      "lawSupervisor decision: law\n",
      "invoke law agent\n",
      "Query for hashing: Road Safety Act 1986 section 49\n",
      "Cache miss - retrieving from laws database\n"
     ]
    },
    {
     "name": "stderr",
     "output_type": "stream",
     "text": [
      "C:\\Users\\DELL\\AppData\\Local\\Temp\\ipykernel_16756\\4090688032.py:18: LangChainDeprecationWarning: The method `BaseRetriever.get_relevant_documents` was deprecated in langchain-core 0.1.46 and will be removed in 1.0. Use :meth:`~invoke` instead.\n",
      "  docs: List[Document] = laws_retriever.get_relevant_documents(query)\n"
     ]
    },
    {
     "name": "stdout",
     "output_type": "stream",
     "text": [
      "NONONONONONONOcaching new result\n",
      "Based on the information extracted from your charge sheet, you have been charged under the **Road Safety Act 1986**, specifically **Section 49(1)(b)**, which pertains to driving a motor vehicle with a blood alcohol concentration (BAC) exceeding the prescribed limit.\n",
      "\n",
      "### Summary of Relevant Legislation\n",
      "- **Section 49(1)(b) of the Road Safety Act 1986** states that a person must not drive a motor vehicle while there is present in their breath (or blood) more than the prescribed concentration of alcohol. In your case, the alleged reading was 0.166 grams per 210 litres of exhaled air, which is significantly over the legal limit (0.05 grams per 210 litres of exhaled air for fully licensed drivers).\n",
      "\n",
      "### Statutory Interpretation Method Used\n",
      "- **Literal Rule**: The direct wording of the statute is interpreted. Here, the section’s language describes a clear prohibition against driving with a BAC exceeding the legal limit.\n",
      "  \n",
      "#### Justification:\n",
      "The phrasing of the law is straightforward, making it appropriate to apply the literal rule. The intent to regulate permissible BAC levels for drivers is evident, aiming to ensure road safety and reduce alcohol-related incidents.\n",
      "\n",
      "### Citation of Legal Sources\n",
      "- **Road Safety Act 1986**, Section 49(1)(b).\n",
      "\n",
      "### Final Conclusion or Recommendation\n",
      "You are facing a summary offence for driving under the influence of alcohol, as defined by Section 49(1)(b) of the Road Safety Act. It is advisable to seek legal representation to better understand your rights and the potential consequences of this charge. Attending court on the specified date and time is crucial to address the charge formally.\n",
      "\n",
      "If you have further questions about your case or the proceedings, please let me know!\n",
      "\n"
     ]
    }
   ],
   "source": [
    "call_multi_agent_system(app,\"Under what section I have been charged and please explain me all the sections in detail\",\"user_123\",\"Image.jpg\")"
   ]
  },
  {
   "cell_type": "code",
   "execution_count": 121,
   "id": "fdfc2618",
   "metadata": {},
   "outputs": [
    {
     "data": {
      "text/markdown": [
       "Human: Why I have been charged for and what will happen next"
      ],
      "text/plain": [
       "<IPython.core.display.Markdown object>"
      ]
     },
     "metadata": {},
     "output_type": "display_data"
    },
    {
     "name": "stdout",
     "output_type": "stream",
     "text": [
      "Using cached extraction\n",
      "Supervisor decision: law\n",
      "invoke law agent\n",
      "Query for hashing: Road Safety Act 1986 (Vic) section 65 exceeding speed limits\n",
      "Cache miss - retrieving from laws database\n",
      "caching new result\n"
     ]
    },
    {
     "data": {
      "text/markdown": [
       "Lexi: ### Summary of Relevant Legislation\n",
       "- **Charge**: The charge against you is for exceeding the speed limit, specifically for driving a motor vehicle at 80 km/h in a zone where the posted speed limit is 60 km/h. This is covered under section 65 of the **Road Safety Act 1986 (Vic)**.\n",
       "  \n",
       "  **Plain English Interpretation**: You are being accused of driving faster than the law allows in a designated area. The law sets speed limits to ensure safety on the roads, and exceeding these limits can result in penalties.\n",
       "\n",
       "### Statutory Interpretation Method Used\n",
       "- **Method**: The **literal rule** of statutory interpretation has been applied here. This method focuses on the ordinary meaning of the text as it stands. The wording of section 65 of the Road Safety Act is straightforward in conveying that driving over the stipulated speed limit qualifies as an offence. \n",
       "\n",
       "### Citation of Legal Sources\n",
       "- **Road Safety Act 1986 (Vic)**, section 65: This section stipulates the regulations concerning speeding and its legal consequences.\n",
       "\n",
       "### Final Conclusion or Recommendation\n",
       "- **Next Steps**: You are required to attend the scheduled hearing. Not attending could lead to a warrant for your arrest or the case being decided without your presence, potentially resulting in a default conviction. At the hearing, you can choose to plead guilty or not guilty.\n",
       "\n",
       "- **Contact Information**: Should you have any questions regarding the charge or procedures, contact the court registry at the provided sample phone number.\n",
       "\n",
       "It is advisable to seek legal counsel to discuss the implications of your plea and prepare for the hearing adequately, especially if you contest the charge."
      ],
      "text/plain": [
       "<IPython.core.display.Markdown object>"
      ]
     },
     "metadata": {},
     "output_type": "display_data"
    }
   ],
   "source": [
    "call_multi_agent_system(app,\"Why I have been charged for and what will happen next\",\"user_123\",\"sample_summons_melbourne_magistrates_court.pdf\")"
   ]
  },
  {
   "cell_type": "code",
   "execution_count": 159,
   "id": "73d35a4c",
   "metadata": {},
   "outputs": [
    {
     "data": {
      "text/markdown": [
       "Human: generate a form for Supreme court NOTICE OF OPPOSITION TO APPLICATION OTHER THAN FOR LEAVE TO APPEAL"
      ],
      "text/plain": [
       "<IPython.core.display.Markdown object>"
      ]
     },
     "metadata": {},
     "output_type": "display_data"
    },
    {
     "name": "stdout",
     "output_type": "stream",
     "text": [
      "Supervisor decision: procedure\n",
      "Invoke procedure\n"
     ]
    },
    {
     "data": {
      "text/markdown": [
       "Lexi: I've prepared a fillable PDF form for you.                     [Download Supreme Court Summons Form](supreme_court_summons.pdf)"
      ],
      "text/plain": [
       "<IPython.core.display.Markdown object>"
      ]
     },
     "metadata": {},
     "output_type": "display_data"
    }
   ],
   "source": [
    "call_multi_agent_system(app,\"generate a form for Supreme court NOTICE OF OPPOSITION TO APPLICATION OTHER THAN FOR LEAVE TO APPEAL\",\"user_123\")"
   ]
  },
  {
   "cell_type": "code",
   "execution_count": 53,
   "id": "2d589857",
   "metadata": {},
   "outputs": [
    {
     "data": {
      "text/markdown": [
       "Human: What is the purpose of the Building and Construction Industry Security of Payment Act 2002?"
      ],
      "text/plain": [
       "<IPython.core.display.Markdown object>"
      ]
     },
     "metadata": {},
     "output_type": "display_data"
    },
    {
     "name": "stdout",
     "output_type": "stream",
     "text": [
      "Supervisor decision: law\n",
      "invoke law agent\n"
     ]
    },
    {
     "data": {
      "text/markdown": [
       "Lexi: ### Question Restatement:\n",
       "What is the purpose of the Building and Construction Industry Security of Payment Act 2002?\n",
       "\n",
       "### Relevant Legislation:\n",
       "**Building and Construction Industry Security of Payment Act 2002 (Victoria)**\n",
       "\n",
       "### Summary of the Legislation:\n",
       "The Building and Construction Industry Security of Payment Act 2002 establishes a framework for the timely and efficient payment for construction work and related goods and services within the building and construction industry in Victoria. It outlines the rights of contractors and subcontractors to receive progress payments and provides mechanisms for resolving payment disputes.\n",
       "\n",
       "### Plain English Interpretation:\n",
       "The Act aims to ensure that people working in the building and construction industry are paid promptly for their work. It gives workers the right to request payments for work completed, and it sets out clear rules on how disputes over these payments should be handled. This is particularly important because delays in payment can create financial strain for those in this sector, from large contractors down to small subcontractors.\n",
       "\n",
       "### Statutory Interpretation Method:\n",
       "**Purposive Approach:** This approach is used to interpret the Act by looking at the overall purpose and intent behind it. The Act's primary aim is to improve cash flow in the construction industry and protect workers from payment disputes.\n",
       "\n",
       "### Citation of Legal Sources:\n",
       "- Building and Construction Industry Security of Payment Act 2002, No. 15 of 2002\n",
       "- Relevant regulations include amendments or provisions from the Building and Construction Industry Security of Payment Regulations 2023.\n",
       "\n",
       "### Conclusion/Recommendation:\n",
       "The Building and Construction Industry Security of Payment Act 2002 is designed to protect the rights of those in the construction industry by facilitating timely payments and providing a clear framework for resolving payment disputes. If you are involved in a construction project, whether as a contractor, subcontractor, or supplier, it's important to familiarize yourself with this Act to safeguard your rights and ensure compliance."
      ],
      "text/plain": [
       "<IPython.core.display.Markdown object>"
      ]
     },
     "metadata": {},
     "output_type": "display_data"
    }
   ],
   "source": [
    "call_multi_agent_system(app,\"What is the purpose of the Building and Construction Industry Security of Payment Act 2002?\",\"user_123\")"
   ]
  },
  {
   "cell_type": "code",
   "execution_count": 184,
   "id": "732e2420",
   "metadata": {},
   "outputs": [
    {
     "data": {
      "text/markdown": [
       "Human: what did we talk about in our recent chats"
      ],
      "text/plain": [
       "<IPython.core.display.Markdown object>"
      ]
     },
     "metadata": {},
     "output_type": "display_data"
    },
    {
     "name": "stdout",
     "output_type": "stream",
     "text": [
      "Supervisor decision: general\n",
      "invoke general agent\n"
     ]
    },
    {
     "data": {
      "text/markdown": [
       "Lexi: In our recent chats, we discussed your inquiries related to Victorian law. You asked about the purpose of the Building and Construction Industry Security of Payment Act 2002, and I provided a summary of its purpose. You also inquired about how to write an application to have a dismissal of an application for leave set aside, for which I provided a general outline and instructions. If there's anything specific you would like to revisit or any new questions, just let me know!"
      ],
      "text/plain": [
       "<IPython.core.display.Markdown object>"
      ]
     },
     "metadata": {},
     "output_type": "display_data"
    }
   ],
   "source": [
    "call_multi_agent_system(app,\"what did we talk about in our recent chats\",\"user_123\")"
   ]
  },
  {
   "cell_type": "code",
   "execution_count": null,
   "id": "0fb73ca1",
   "metadata": {},
   "outputs": [],
   "source": []
  }
 ],
 "metadata": {
  "kernelspec": {
   "display_name": "lexilawagent",
   "language": "python",
   "name": "python3"
  },
  "language_info": {
   "codemirror_mode": {
    "name": "ipython",
    "version": 3
   },
   "file_extension": ".py",
   "mimetype": "text/x-python",
   "name": "python",
   "nbconvert_exporter": "python",
   "pygments_lexer": "ipython3",
   "version": "3.11.13"
  }
 },
 "nbformat": 4,
 "nbformat_minor": 5
}
